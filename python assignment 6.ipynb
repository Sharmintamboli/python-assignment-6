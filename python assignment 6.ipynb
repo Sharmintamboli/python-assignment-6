{
 "cells": [
  {
   "cell_type": "code",
   "execution_count": 7,
   "id": "74552ea3",
   "metadata": {},
   "outputs": [
    {
     "name": "stdout",
     "output_type": "stream",
     "text": [
      "apple\n",
      "orange\n",
      "bad\tgood\n",
      "my\r",
      "you\n"
     ]
    }
   ],
   "source": [
    "#question 1\n",
    "\"\"\"What are escape characters, and how do you use them?\"\"\"\n",
    "#escape chracter used in string that would be impossible or difficukt to code\n",
    "#\"\\=blacklash\"is used to represnet the escape character\n",
    "print (\"apple\\norange\") #\\n=new line\n",
    "print (\"bad\\tgood\")     #\\t=tab\n",
    "print (\"my\\ryou\")       #\\r=carraige"
   ]
  },
  {
   "cell_type": "code",
   "execution_count": null,
   "id": "cea630f4",
   "metadata": {},
   "outputs": [],
   "source": [
    "#question 2\n",
    "\"\"\"What do the escape characters n and t stand for?\"\"\"\n",
    "#\\n==new line\n",
    "#\\t==tab\n"
   ]
  },
  {
   "cell_type": "code",
   "execution_count": 8,
   "id": "456139fa",
   "metadata": {},
   "outputs": [
    {
     "name": "stdout",
     "output_type": "stream",
     "text": [
      "howl's moving castle\n"
     ]
    }
   ],
   "source": [
    "#question 4\n",
    "\"\"\"The string quot \"Howl' Moving Castle\"; is a correct value. Why is the single quote character in the\n",
    "word Howl not escaped a problem?\"\"\"\n",
    "#single quote howl's is fine because at the end and the start we put double quot\n",
    "print(\"howl's moving castle\")"
   ]
  },
  {
   "cell_type": "code",
   "execution_count": 10,
   "id": "15f23175",
   "metadata": {},
   "outputs": [
    {
     "name": "stdout",
     "output_type": "stream",
     "text": [
      "it's\\dinner time\n"
     ]
    }
   ],
   "source": [
    "#question 3\n",
    "\"\"\"What is the way to include backslash characters in a string?\"\"\"\n",
    "#by using double blacklash \"\\\\\"\n",
    "print (\"it's\\\\dinner time\")"
   ]
  },
  {
   "cell_type": "code",
   "execution_count": null,
   "id": "f5ba6a41",
   "metadata": {},
   "outputs": [],
   "source": [
    "#question 5\n",
    "\"\"\"How do you write a string of newlines if you dont want to use the n character?\"\"\"\n",
    "#by using multiline string"
   ]
  },
  {
   "cell_type": "code",
   "execution_count": 11,
   "id": "f42d9e4e",
   "metadata": {},
   "outputs": [],
   "source": [
    "#question 6\n",
    "\"\"\"What are the values of the given expressions?\"\"\"\n",
    "s=\"hello world\""
   ]
  },
  {
   "cell_type": "code",
   "execution_count": 13,
   "id": "3b739cd8",
   "metadata": {},
   "outputs": [
    {
     "data": {
      "text/plain": [
       "'e'"
      ]
     },
     "execution_count": 13,
     "metadata": {},
     "output_type": "execute_result"
    }
   ],
   "source": [
    "s[1]"
   ]
  },
  {
   "cell_type": "code",
   "execution_count": 14,
   "id": "a49f4947",
   "metadata": {},
   "outputs": [
    {
     "data": {
      "text/plain": [
       "'hello'"
      ]
     },
     "execution_count": 14,
     "metadata": {},
     "output_type": "execute_result"
    }
   ],
   "source": [
    "s[0:5]"
   ]
  },
  {
   "cell_type": "code",
   "execution_count": 15,
   "id": "f71e3927",
   "metadata": {},
   "outputs": [
    {
     "data": {
      "text/plain": [
       "'hello'"
      ]
     },
     "execution_count": 15,
     "metadata": {},
     "output_type": "execute_result"
    }
   ],
   "source": [
    "s[:5]"
   ]
  },
  {
   "cell_type": "code",
   "execution_count": 16,
   "id": "a7b0d115",
   "metadata": {},
   "outputs": [
    {
     "data": {
      "text/plain": [
       "'lo world'"
      ]
     },
     "execution_count": 16,
     "metadata": {},
     "output_type": "execute_result"
    }
   ],
   "source": [
    "s[3:]"
   ]
  },
  {
   "cell_type": "code",
   "execution_count": 17,
   "id": "d784afd9",
   "metadata": {},
   "outputs": [
    {
     "data": {
      "text/plain": [
       "'hello'"
      ]
     },
     "execution_count": 17,
     "metadata": {},
     "output_type": "execute_result"
    }
   ],
   "source": [
    "#question 7\n",
    "\"\"\"What are the values of the following expressions?\"\"\"\n",
    "\"hello\""
   ]
  },
  {
   "cell_type": "code",
   "execution_count": 26,
   "id": "8183a533",
   "metadata": {},
   "outputs": [
    {
     "data": {
      "text/plain": [
       "'HELLO'"
      ]
     },
     "execution_count": 26,
     "metadata": {},
     "output_type": "execute_result"
    }
   ],
   "source": [
    "\"hello\".upper()"
   ]
  },
  {
   "cell_type": "code",
   "execution_count": 23,
   "id": "e247bb39",
   "metadata": {},
   "outputs": [
    {
     "data": {
      "text/plain": [
       "True"
      ]
     },
     "execution_count": 23,
     "metadata": {},
     "output_type": "execute_result"
    }
   ],
   "source": [
    "\"hello\".upper().isupper()"
   ]
  },
  {
   "cell_type": "code",
   "execution_count": 24,
   "id": "29d40c5b",
   "metadata": {},
   "outputs": [
    {
     "data": {
      "text/plain": [
       "'hello'"
      ]
     },
     "execution_count": 24,
     "metadata": {},
     "output_type": "execute_result"
    }
   ],
   "source": [
    "\"hello\".upper().lower()"
   ]
  },
  {
   "cell_type": "code",
   "execution_count": 28,
   "id": "ee8e00ca",
   "metadata": {},
   "outputs": [],
   "source": [
    "#question 8\n",
    "\"\"\"What are the values of the following expressions?\"\"\"\n",
    "a=\"remember,remember,the fifth of julu\""
   ]
  },
  {
   "cell_type": "code",
   "execution_count": 30,
   "id": "bebb6d2f",
   "metadata": {},
   "outputs": [
    {
     "data": {
      "text/plain": [
       "['remember,remember,the', 'fifth', 'of', 'julu']"
      ]
     },
     "execution_count": 30,
     "metadata": {},
     "output_type": "execute_result"
    }
   ],
   "source": [
    "a.split()"
   ]
  },
  {
   "cell_type": "code",
   "execution_count": 35,
   "id": "c89ee243",
   "metadata": {},
   "outputs": [
    {
     "data": {
      "text/plain": [
       "'There-can-be-only-one.'"
      ]
     },
     "execution_count": 35,
     "metadata": {},
     "output_type": "execute_result"
    }
   ],
   "source": [
    "'-'.join(\"There can be only one.\".split())"
   ]
  },
  {
   "cell_type": "code",
   "execution_count": null,
   "id": "56c95700",
   "metadata": {},
   "outputs": [],
   "source": [
    "#question 9\n",
    "\"\"\"What are the methods for right-justifying, left-justifying, and centering a string?\"\"\"\n",
    "#for right rjust(),for keft ljust() for center center()"
   ]
  },
  {
   "cell_type": "code",
   "execution_count": 60,
   "id": "af8b748a",
   "metadata": {},
   "outputs": [
    {
     "data": {
      "text/plain": [
       "'remember,remember,the fifth of julu'"
      ]
     },
     "execution_count": 60,
     "metadata": {},
     "output_type": "execute_result"
    }
   ],
   "source": [
    "#question 10\n",
    "\"\"\"What is the best way to remove whitespace characters from the start or end?\"\"\"\n",
    "#the lstrip() and rstrip() methods remove whitespace from the left and right ends of a string, respectively.\n",
    "a.strip()"
   ]
  },
  {
   "cell_type": "code",
   "execution_count": null,
   "id": "41eb38b7",
   "metadata": {},
   "outputs": [],
   "source": []
  }
 ],
 "metadata": {
  "kernelspec": {
   "display_name": "Python 3 (ipykernel)",
   "language": "python",
   "name": "python3"
  },
  "language_info": {
   "codemirror_mode": {
    "name": "ipython",
    "version": 3
   },
   "file_extension": ".py",
   "mimetype": "text/x-python",
   "name": "python",
   "nbconvert_exporter": "python",
   "pygments_lexer": "ipython3",
   "version": "3.9.7"
  }
 },
 "nbformat": 4,
 "nbformat_minor": 5
}
